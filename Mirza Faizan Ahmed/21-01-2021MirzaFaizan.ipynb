{
 "cells": [
  {
   "cell_type": "code",
   "execution_count": 13,
   "metadata": {},
   "outputs": [],
   "source": [
    "def music_album(artist_name, album_title):\n",
    "    artist_info = {\"artist name\":artist_name,\"album title\":album_title}\n",
    "    return artist_info\n",
    "\n",
    "    "
   ]
  },
  {
   "cell_type": "code",
   "execution_count": 14,
   "metadata": {},
   "outputs": [],
   "source": [
    "\n",
    "album1 = music_album(\"A\",\"A1\")\n",
    "album2 = music_album(\"B\",\"B1\")\n",
    "album3 = music_album(\"C\",\"C1\")\n"
   ]
  },
  {
   "cell_type": "code",
   "execution_count": 15,
   "metadata": {},
   "outputs": [
    {
     "name": "stdout",
     "output_type": "stream",
     "text": [
      "{'artist name': 'A', 'album title': 'A1'} {'artist name': 'B', 'album title': 'B1'} {'artist name': 'C', 'album title': 'C1'}\n"
     ]
    }
   ],
   "source": [
    "print(album1,album2,album3)"
   ]
  },
  {
   "cell_type": "code",
   "execution_count": 37,
   "metadata": {},
   "outputs": [],
   "source": [
    "def music_album(artist_name, album_title , tracks=\"\"):\n",
    "    artist_info = {\"artist name\":artist_name,\"album title\":album_title}\n",
    "    \n",
    "    if tracks:\n",
    "        artist_info[\"Tracks\"]:tracks\n",
    "\n",
    "         \n",
    "    return artist_info"
   ]
  },
  {
   "cell_type": "code",
   "execution_count": 38,
   "metadata": {},
   "outputs": [],
   "source": [
    "album1 = music_album(\"A\",\"A1\",4)\n",
    "#album2 = music_album(\"B\",\"B1\",5)\n",
    "#album3 = music_album(\"C\",\"C1\")"
   ]
  },
  {
   "cell_type": "code",
   "execution_count": 40,
   "metadata": {},
   "outputs": [
    {
     "name": "stdout",
     "output_type": "stream",
     "text": [
      "{'artist name': 'A', 'album title': 'A1'}\n"
     ]
    }
   ],
   "source": [
    "print(album1)"
   ]
  },
  {
   "cell_type": "code",
   "execution_count": 11,
   "metadata": {},
   "outputs": [],
   "source": [
    "def make_album():\n",
    "    album ={}\n",
    "    album_list = []\n",
    "    bool = True\n",
    "    while(bool):\n",
    "        artist_name = input(\"Entre Artist Name\")\n",
    "        album_title = input(\"Enter Album Title\")\n",
    "        \n",
    "        if artist_name != \"q\" or album_title != \"q\":\n",
    "            album[\"Artist Name\"]= artist_name\n",
    "            album[\"Album Title\"]= album_title\n",
    "            album_list.append(album)\n",
    "        else:\n",
    "           bool =False\n",
    "    \n",
    "        \n",
    "    print(album)"
   ]
  },
  {
   "cell_type": "code",
   "execution_count": 13,
   "metadata": {},
   "outputs": [
    {
     "name": "stdout",
     "output_type": "stream",
     "text": [
      "Entre Artist Name\n",
      "Enter Album Title\n",
      "Entre Artist Nameq\n",
      "Enter Album Titleq\n",
      "{'Artist Name': '', 'Album Title': ''}\n"
     ]
    }
   ],
   "source": [
    "make_album()"
   ]
  },
  {
   "cell_type": "markdown",
   "metadata": {},
   "source": [
    "# Sallery Calculator"
   ]
  },
  {
   "cell_type": "code",
   "execution_count": 50,
   "metadata": {},
   "outputs": [],
   "source": [
    "\n",
    "def salary_cal(basic_salary):\n",
    "    tax_detection = tax(basic_salary)\n",
    "    fund = provi_fund(basic_salary)\n",
    "    com = comission(basic_salary)\n",
    "    \n",
    "    gross_salary = basic_salary - tax_detection - fund + com\n",
    "    return gross_salary"
   ]
  },
  {
   "cell_type": "code",
   "execution_count": 51,
   "metadata": {},
   "outputs": [
    {
     "name": "stdout",
     "output_type": "stream",
     "text": [
      "Enter the Basic Salary of Employee 70000\n",
      "The Gross Salary of Employee is  66500.0\n"
     ]
    }
   ],
   "source": [
    "basic_salary = int(input(\"Enter the Basic Salary of Employee \"))\n",
    "\n",
    "grossSalary = salary_cal(basic_salary)\n",
    "print(\"The Gross Salary of Employee is \" , grossSalary)"
   ]
  },
  {
   "cell_type": "code",
   "execution_count": 40,
   "metadata": {},
   "outputs": [],
   "source": [
    "def tax(basic_salary):\n",
    "    tax_detection = 0\n",
    "    if basic_salary < 30000:\n",
    "        tax_detection = 0\n",
    "    elif basic_salary > 30000 and  basic_salary < 50000:\n",
    "        tax_detection = 5\n",
    "    elif basic_salary >= 50000 and basic_salary < 100000:\n",
    "        tax_detection = 10\n",
    "    else:\n",
    "        tax_detection = 15\n",
    "        \n",
    "    total_detection = basic_salary*tax_detection/100\n",
    "        \n",
    "    return total_detection\n",
    "    "
   ]
  },
  {
   "cell_type": "code",
   "execution_count": 48,
   "metadata": {},
   "outputs": [],
   "source": [
    "def provi_fund(basic_salary):\n",
    "    \n",
    "    fund = 0\n",
    "    if basic_salary < 30000:\n",
    "        fund = 0\n",
    "    elif basic_salary > 30000 and  basic_salary < 50000:\n",
    "        fund = 4\n",
    "    elif basic_salary >= 50000 and basic_salary < 100000:\n",
    "        fund = 8\n",
    "    else:\n",
    "        fund = 10\n",
    "        \n",
    "    total_fund = basic_salary*fund/100\n",
    "        \n",
    "    return total_fund"
   ]
  },
  {
   "cell_type": "code",
   "execution_count": 41,
   "metadata": {},
   "outputs": [],
   "source": [
    "def comission(basic_salary):\n",
    "    com = 0\n",
    "    \n",
    "    if basic_salary < 30000:\n",
    "        com = 4\n",
    "    elif basic_salary > 30000 and  basic_salary < 50000:\n",
    "        com = 10\n",
    "    elif basic_salary >= 50000 and basic_salary < 100000:\n",
    "        com = 13\n",
    "    else:\n",
    "        com = 20\n",
    "        \n",
    "    total_commission = basic_salary*com/100\n",
    "        \n",
    "    return total_commission\n",
    "    \n",
    "    "
   ]
  }
 ],
 "metadata": {
  "kernelspec": {
   "display_name": "Python 3",
   "language": "python",
   "name": "python3"
  },
  "language_info": {
   "codemirror_mode": {
    "name": "ipython",
    "version": 3
   },
   "file_extension": ".py",
   "mimetype": "text/x-python",
   "name": "python",
   "nbconvert_exporter": "python",
   "pygments_lexer": "ipython3",
   "version": "3.7.6"
  }
 },
 "nbformat": 4,
 "nbformat_minor": 4
}
