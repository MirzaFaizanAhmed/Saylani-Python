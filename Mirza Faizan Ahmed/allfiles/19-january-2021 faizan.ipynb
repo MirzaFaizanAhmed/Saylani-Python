{
 "cells": [
  {
   "cell_type": "markdown",
   "metadata": {},
   "source": [
    "# DOCUMENT STRING\n"
   ]
  },
  {
   "cell_type": "code",
   "execution_count": null,
   "metadata": {},
   "outputs": [],
   "source": [
    "#Add description of function"
   ]
  },
  {
   "cell_type": "code",
   "execution_count": 1,
   "metadata": {},
   "outputs": [],
   "source": [
    "def adding():\n",
    "    '''This function return no argumrnt\n",
    "    but return value of addition'''\n",
    "    num1 = int(input())\n",
    "    num2 = int(input())\n",
    "    res = num1+num2\n",
    "    return res\n"
   ]
  },
  {
   "cell_type": "code",
   "execution_count": 2,
   "metadata": {},
   "outputs": [
    {
     "name": "stdout",
     "output_type": "stream",
     "text": [
      "1\n",
      "2\n"
     ]
    },
    {
     "data": {
      "text/plain": [
       "3"
      ]
     },
     "execution_count": 2,
     "metadata": {},
     "output_type": "execute_result"
    }
   ],
   "source": [
    "adding()"
   ]
  },
  {
   "cell_type": "code",
   "execution_count": 4,
   "metadata": {},
   "outputs": [
    {
     "name": "stdout",
     "output_type": "stream",
     "text": [
      "Help on function adding in module __main__:\n",
      "\n",
      "adding()\n",
      "    This function return no argumrnt\n",
      "    but return value of addition\n",
      "\n"
     ]
    }
   ],
   "source": [
    "help(adding)"
   ]
  },
  {
   "cell_type": "markdown",
   "metadata": {},
   "source": [
    "# Function with parameter"
   ]
  },
  {
   "cell_type": "code",
   "execution_count": 4,
   "metadata": {},
   "outputs": [],
   "source": [
    "def multiply(para1,para2):\n",
    "    '''This function take parameter and return multiple of parameters'''\n",
    "    return para1*para2"
   ]
  },
  {
   "cell_type": "code",
   "execution_count": 2,
   "metadata": {},
   "outputs": [
    {
     "name": "stdout",
     "output_type": "stream",
     "text": [
      "2\n",
      "2\n"
     ]
    },
    {
     "data": {
      "text/plain": [
       "4"
      ]
     },
     "execution_count": 2,
     "metadata": {},
     "output_type": "execute_result"
    }
   ],
   "source": [
    "no1 = int(input())\n",
    "no2 = int(input())\n",
    "multiply(no1,no2)"
   ]
  },
  {
   "cell_type": "markdown",
   "metadata": {},
   "source": [
    "# KeyWord Argument"
   ]
  },
  {
   "cell_type": "code",
   "execution_count": 6,
   "metadata": {},
   "outputs": [],
   "source": [
    "def fullname(first_name,middle_name,last_name):\n",
    "    return first_name+middle_name+last_name"
   ]
  },
  {
   "cell_type": "code",
   "execution_count": 8,
   "metadata": {},
   "outputs": [
    {
     "data": {
      "text/plain": [
       "'ABC'"
      ]
     },
     "execution_count": 8,
     "metadata": {},
     "output_type": "execute_result"
    }
   ],
   "source": [
    "fullname(\"A\",\"B\",\"C\")"
   ]
  },
  {
   "cell_type": "code",
   "execution_count": 13,
   "metadata": {},
   "outputs": [
    {
     "name": "stdout",
     "output_type": "stream",
     "text": [
      "a\n",
      "b\n",
      "c\n"
     ]
    },
    {
     "data": {
      "text/plain": [
       "'abc'"
      ]
     },
     "execution_count": 13,
     "metadata": {},
     "output_type": "execute_result"
    }
   ],
   "source": [
    "first_name = input()\n",
    "middle_name = input()\n",
    "last_name = input()\n",
    "\n",
    "fullname(first_name = first_name , last_name= last_name , middle_name = middle_name)"
   ]
  },
  {
   "cell_type": "code",
   "execution_count": 16,
   "metadata": {},
   "outputs": [
    {
     "name": "stdout",
     "output_type": "stream",
     "text": [
      "12 13 3 6\n"
     ]
    }
   ],
   "source": [
    "#Positional  argument and keyword argument\n",
    "\n",
    "def abc(w,x,y,z):\n",
    "    print(w,x,y,z)\n",
    "\n",
    "abc(12,13,y=3,z=6)\n"
   ]
  },
  {
   "cell_type": "code",
   "execution_count": 21,
   "metadata": {},
   "outputs": [
    {
     "name": "stdout",
     "output_type": "stream",
     "text": [
      "1 2 4\n"
     ]
    }
   ],
   "source": [
    "#default Parameter\n",
    "\n",
    "def default(x1,y1,z1=4):\n",
    "    print(x1,y1,z1)\n",
    "    \n",
    "default(1,2)\n",
    "    \n",
    "    "
   ]
  },
  {
   "cell_type": "code",
   "execution_count": 25,
   "metadata": {},
   "outputs": [],
   "source": [
    "#return multiple value\n",
    "def fun():\n",
    "    number1 = 2\n",
    "    number2 = 3\n",
    "    add = number1+number2\n",
    "    mul = number1*number2\n",
    "    \n",
    "    return add,mul"
   ]
  },
  {
   "cell_type": "code",
   "execution_count": 28,
   "metadata": {},
   "outputs": [
    {
     "data": {
      "text/plain": [
       "(5, 6)"
      ]
     },
     "execution_count": 28,
     "metadata": {},
     "output_type": "execute_result"
    }
   ],
   "source": [
    "fun()"
   ]
  },
  {
   "cell_type": "markdown",
   "metadata": {},
   "source": [
    "# Write a function called make_shirt() that accepts a size and the\n",
    "# text of a message that should be printed on the shirt. The function should print a sentence summarizing the size of the shirt and the message printed on it. Call the function once using positional arguments to make a shirt. Call the\n",
    "# function a second time using keyword arguments."
   ]
  },
  {
   "cell_type": "code",
   "execution_count": 36,
   "metadata": {},
   "outputs": [
    {
     "name": "stdout",
     "output_type": "stream",
     "text": [
      "Enter Size of a Shirt large\n",
      "Enter message to print on a shirt hi!\n",
      "Size of Shirt :  large\n",
      "Message :  hi!\n"
     ]
    }
   ],
   "source": [
    "def make_shirt(shirt=\"Medium\", message=\"Pakistan zindabad\"):\n",
    "    \n",
    "    print(\"Size of Shirt : \" ,shirt)\n",
    "    print(\"Message : \" ,message)\n",
    "\n",
    "shirt = input(\"Enter Size of a Shirt \")\n",
    "message = input(\"Enter message to print on a shirt \")\n",
    "\n",
    "make_shirt(shirt = shirt , message = message)"
   ]
  },
  {
   "cell_type": "code",
   "execution_count": 39,
   "metadata": {},
   "outputs": [
    {
     "data": {
      "text/plain": [
       "{'first': 'kamran', 'last': 'Ahmed'}"
      ]
     },
     "execution_count": 39,
     "metadata": {},
     "output_type": "execute_result"
    }
   ],
   "source": [
    "def build_person(f_name,l_name):\n",
    "    person = {'first':f_name,'last':l_name}\n",
    "    return person\n",
    "build_person('kamran','Ahmed')"
   ]
  },
  {
   "cell_type": "code",
   "execution_count": 49,
   "metadata": {},
   "outputs": [
    {
     "name": "stdout",
     "output_type": "stream",
     "text": [
      "Enter number2\n",
      "Enter number3\n",
      "Enter number7\n",
      "Enter number8\n",
      "Enter number6\n"
     ]
    },
    {
     "data": {
      "text/plain": [
       "8"
      ]
     },
     "execution_count": 49,
     "metadata": {},
     "output_type": "execute_result"
    }
   ],
   "source": [
    "#get 5 values from user and tell which one is large\\\n",
    "\n",
    "def max_finder():\n",
    "    num_list =[]\n",
    "    for a in range(5):\n",
    "        num = int(input(\"Enter number\"))\n",
    "        num_list.append(num)\n",
    "        max_number = max(num_list)\n",
    "    return max_number\n",
    "\n",
    "max_finder()"
   ]
  },
  {
   "cell_type": "code",
   "execution_count": 55,
   "metadata": {},
   "outputs": [],
   "source": [
    "#in short code\n",
    "\n",
    "def large_finder():\n",
    "    return max([int(input()) for i in range(5)])"
   ]
  },
  {
   "cell_type": "code",
   "execution_count": null,
   "metadata": {},
   "outputs": [],
   "source": [
    "large_finder()"
   ]
  },
  {
   "cell_type": "code",
   "execution_count": 8,
   "metadata": {},
   "outputs": [],
   "source": [
    "#get multiple value in one input\n",
    "\n",
    "def l_number():\n",
    "    l = input(\"Enter comma seperate number\").split(',')\n",
    "    return max([int(i) for i in l])\n"
   ]
  },
  {
   "cell_type": "code",
   "execution_count": 10,
   "metadata": {},
   "outputs": [
    {
     "name": "stdout",
     "output_type": "stream",
     "text": [
      "Enter comma seperate number234,234,234,42,99999\n"
     ]
    },
    {
     "data": {
      "text/plain": [
       "99999"
      ]
     },
     "execution_count": 10,
     "metadata": {},
     "output_type": "execute_result"
    }
   ],
   "source": [
    "l_number()"
   ]
  },
  {
   "cell_type": "code",
   "execution_count": null,
   "metadata": {},
   "outputs": [],
   "source": []
  }
 ],
 "metadata": {
  "kernelspec": {
   "display_name": "Python 3",
   "language": "python",
   "name": "python3"
  },
  "language_info": {
   "codemirror_mode": {
    "name": "ipython",
    "version": 3
   },
   "file_extension": ".py",
   "mimetype": "text/x-python",
   "name": "python",
   "nbconvert_exporter": "python",
   "pygments_lexer": "ipython3",
   "version": "3.7.6"
  }
 },
 "nbformat": 4,
 "nbformat_minor": 4
}
